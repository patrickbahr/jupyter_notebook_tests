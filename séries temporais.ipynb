{
 "cells": [
  {
   "cell_type": "code",
   "execution_count": 4,
   "metadata": {},
   "outputs": [],
   "source": [
    "import pandas as pd\n",
    "from db import DB\n",
    "from db import DemoDB"
   ]
  },
  {
   "cell_type": "code",
   "execution_count": null,
   "metadata": {},
   "outputs": [],
   "source": []
  },
  {
   "cell_type": "code",
   "execution_count": 5,
   "metadata": {},
   "outputs": [
    {
     "name": "stderr",
     "output_type": "stream",
     "text": [
      "Indexing schema. This will take a second...finished!\n"
     ]
    }
   ],
   "source": [
    "database = DemoDB()"
   ]
  },
  {
   "cell_type": "code",
   "execution_count": 6,
   "metadata": {},
   "outputs": [
    {
     "name": "stderr",
     "output_type": "stream",
     "text": [
      "Refreshing schema. Please wait...done!\n"
     ]
    },
    {
     "data": {
      "text/html": [
       "<table>\n",
       "    <tr>\n",
       "        <th>Schema</th>\n",
       "        <th>Table</th>\n",
       "        <th>Columns</th>\n",
       "    </tr>\n",
       "    <tr>\n",
       "        <td>public</td>\n",
       "        <td>Album</td>\n",
       "        <td>AlbumId, Title, ArtistId</td>\n",
       "    </tr>\n",
       "    <tr>\n",
       "        <td>public</td>\n",
       "        <td>Artist</td>\n",
       "        <td>ArtistId, Name</td>\n",
       "    </tr>\n",
       "    <tr>\n",
       "        <td>public</td>\n",
       "        <td>Customer</td>\n",
       "        <td>CustomerId, FirstName, LastName, Company, Address, City, State, Country, PostalC<br>ode, Phone, Fax, Email, SupportRepId</td>\n",
       "    </tr>\n",
       "    <tr>\n",
       "        <td>public</td>\n",
       "        <td>Employee</td>\n",
       "        <td>EmployeeId, LastName, FirstName, Title, ReportsTo, BirthDate, HireDate, Address,<br> City, State, Country, PostalCode, Phone, Fax, Email</td>\n",
       "    </tr>\n",
       "    <tr>\n",
       "        <td>public</td>\n",
       "        <td>Genre</td>\n",
       "        <td>GenreId, Name</td>\n",
       "    </tr>\n",
       "    <tr>\n",
       "        <td>public</td>\n",
       "        <td>Invoice</td>\n",
       "        <td>InvoiceId, CustomerId, InvoiceDate, BillingAddress, BillingCity, BillingState, B<br>illingCountry, BillingPostalCode, Total</td>\n",
       "    </tr>\n",
       "    <tr>\n",
       "        <td>public</td>\n",
       "        <td>InvoiceLine</td>\n",
       "        <td>InvoiceLineId, InvoiceId, TrackId, UnitPrice, Quantity</td>\n",
       "    </tr>\n",
       "    <tr>\n",
       "        <td>public</td>\n",
       "        <td>MediaType</td>\n",
       "        <td>MediaTypeId, Name</td>\n",
       "    </tr>\n",
       "    <tr>\n",
       "        <td>public</td>\n",
       "        <td>Playlist</td>\n",
       "        <td>PlaylistId, Name</td>\n",
       "    </tr>\n",
       "    <tr>\n",
       "        <td>public</td>\n",
       "        <td>PlaylistTrack</td>\n",
       "        <td>PlaylistId, TrackId</td>\n",
       "    </tr>\n",
       "    <tr>\n",
       "        <td>public</td>\n",
       "        <td>Track</td>\n",
       "        <td>TrackId, Name, AlbumId, MediaTypeId, GenreId, Composer, Milliseconds, Bytes, Uni<br>tPrice</td>\n",
       "    </tr>\n",
       "</table>"
      ],
      "text/plain": [
       "+--------+---------------+----------------------------------------------------------------------------------+\n",
       "| Schema | Table         | Columns                                                                          |\n",
       "+--------+---------------+----------------------------------------------------------------------------------+\n",
       "| public | Album         | AlbumId, Title, ArtistId                                                         |\n",
       "| public | Artist        | ArtistId, Name                                                                   |\n",
       "| public | Customer      | CustomerId, FirstName, LastName, Company, Address, City, State, Country, PostalC |\n",
       "|        |               | ode, Phone, Fax, Email, SupportRepId                                             |\n",
       "| public | Employee      | EmployeeId, LastName, FirstName, Title, ReportsTo, BirthDate, HireDate, Address, |\n",
       "|        |               |  City, State, Country, PostalCode, Phone, Fax, Email                             |\n",
       "| public | Genre         | GenreId, Name                                                                    |\n",
       "| public | Invoice       | InvoiceId, CustomerId, InvoiceDate, BillingAddress, BillingCity, BillingState, B |\n",
       "|        |               | illingCountry, BillingPostalCode, Total                                          |\n",
       "| public | InvoiceLine   | InvoiceLineId, InvoiceId, TrackId, UnitPrice, Quantity                           |\n",
       "| public | MediaType     | MediaTypeId, Name                                                                |\n",
       "| public | Playlist      | PlaylistId, Name                                                                 |\n",
       "| public | PlaylistTrack | PlaylistId, TrackId                                                              |\n",
       "| public | Track         | TrackId, Name, AlbumId, MediaTypeId, GenreId, Composer, Milliseconds, Bytes, Uni |\n",
       "|        |               | tPrice                                                                           |\n",
       "+--------+---------------+----------------------------------------------------------------------------------+"
      ]
     },
     "execution_count": 6,
     "metadata": {},
     "output_type": "execute_result"
    }
   ],
   "source": [
    "database.tables"
   ]
  },
  {
   "cell_type": "code",
   "execution_count": 7,
   "metadata": {},
   "outputs": [
    {
     "data": {
      "text/html": [
       "<table>\n",
       "    <tr>\n",
       "        <th>Column</th>\n",
       "        <th>Type</th>\n",
       "        <th>Foreign Keys</th>\n",
       "        <th>Reference Keys</th>\n",
       "    </tr>\n",
       "    <tr>\n",
       "        <td>EmployeeId</td>\n",
       "        <td>INTEGER</td>\n",
       "        <td></td>\n",
       "        <td>Customer.SupportRepId, Employee.ReportsTo</td>\n",
       "    </tr>\n",
       "    <tr>\n",
       "        <td>LastName</td>\n",
       "        <td>NVARCHAR(20)</td>\n",
       "        <td></td>\n",
       "        <td></td>\n",
       "    </tr>\n",
       "    <tr>\n",
       "        <td>FirstName</td>\n",
       "        <td>NVARCHAR(20)</td>\n",
       "        <td></td>\n",
       "        <td></td>\n",
       "    </tr>\n",
       "    <tr>\n",
       "        <td>Title</td>\n",
       "        <td>NVARCHAR(30)</td>\n",
       "        <td></td>\n",
       "        <td></td>\n",
       "    </tr>\n",
       "    <tr>\n",
       "        <td>ReportsTo</td>\n",
       "        <td>INTEGER</td>\n",
       "        <td>Employee.EmployeeId</td>\n",
       "        <td></td>\n",
       "    </tr>\n",
       "    <tr>\n",
       "        <td>BirthDate</td>\n",
       "        <td>DATETIME</td>\n",
       "        <td></td>\n",
       "        <td></td>\n",
       "    </tr>\n",
       "    <tr>\n",
       "        <td>HireDate</td>\n",
       "        <td>DATETIME</td>\n",
       "        <td></td>\n",
       "        <td></td>\n",
       "    </tr>\n",
       "    <tr>\n",
       "        <td>Address</td>\n",
       "        <td>NVARCHAR(70)</td>\n",
       "        <td></td>\n",
       "        <td></td>\n",
       "    </tr>\n",
       "    <tr>\n",
       "        <td>City</td>\n",
       "        <td>NVARCHAR(40)</td>\n",
       "        <td></td>\n",
       "        <td></td>\n",
       "    </tr>\n",
       "    <tr>\n",
       "        <td>State</td>\n",
       "        <td>NVARCHAR(40)</td>\n",
       "        <td></td>\n",
       "        <td></td>\n",
       "    </tr>\n",
       "    <tr>\n",
       "        <td>Country</td>\n",
       "        <td>NVARCHAR(40)</td>\n",
       "        <td></td>\n",
       "        <td></td>\n",
       "    </tr>\n",
       "    <tr>\n",
       "        <td>PostalCode</td>\n",
       "        <td>NVARCHAR(10)</td>\n",
       "        <td></td>\n",
       "        <td></td>\n",
       "    </tr>\n",
       "    <tr>\n",
       "        <td>Phone</td>\n",
       "        <td>NVARCHAR(24)</td>\n",
       "        <td></td>\n",
       "        <td></td>\n",
       "    </tr>\n",
       "    <tr>\n",
       "        <td>Fax</td>\n",
       "        <td>NVARCHAR(24)</td>\n",
       "        <td></td>\n",
       "        <td></td>\n",
       "    </tr>\n",
       "    <tr>\n",
       "        <td>Email</td>\n",
       "        <td>NVARCHAR(60)</td>\n",
       "        <td></td>\n",
       "        <td></td>\n",
       "    </tr>\n",
       "</table>"
      ],
      "text/plain": [
       "+---------------------------------------------------------------------------------------------+\n",
       "|                                           Employee                                          |\n",
       "+------------+--------------+---------------------+-------------------------------------------+\n",
       "| Column     | Type         | Foreign Keys        | Reference Keys                            |\n",
       "+------------+--------------+---------------------+-------------------------------------------+\n",
       "| EmployeeId | INTEGER      |                     | Customer.SupportRepId, Employee.ReportsTo |\n",
       "| LastName   | NVARCHAR(20) |                     |                                           |\n",
       "| FirstName  | NVARCHAR(20) |                     |                                           |\n",
       "| Title      | NVARCHAR(30) |                     |                                           |\n",
       "| ReportsTo  | INTEGER      | Employee.EmployeeId |                                           |\n",
       "| BirthDate  | DATETIME     |                     |                                           |\n",
       "| HireDate   | DATETIME     |                     |                                           |\n",
       "| Address    | NVARCHAR(70) |                     |                                           |\n",
       "| City       | NVARCHAR(40) |                     |                                           |\n",
       "| State      | NVARCHAR(40) |                     |                                           |\n",
       "| Country    | NVARCHAR(40) |                     |                                           |\n",
       "| PostalCode | NVARCHAR(10) |                     |                                           |\n",
       "| Phone      | NVARCHAR(24) |                     |                                           |\n",
       "| Fax        | NVARCHAR(24) |                     |                                           |\n",
       "| Email      | NVARCHAR(60) |                     |                                           |\n",
       "+------------+--------------+---------------------+-------------------------------------------+"
      ]
     },
     "execution_count": 7,
     "metadata": {},
     "output_type": "execute_result"
    }
   ],
   "source": [
    "database.tables.Employee"
   ]
  },
  {
   "cell_type": "code",
   "execution_count": null,
   "metadata": {},
   "outputs": [],
   "source": [
    "pd.to_datetime(log_df['date'], format='%Y-%m-%d %H:%M:%S.%f')\n",
    "log_df.types\n",
    "log_df.set_index(['date'], inplace=True)\n"
   ]
  },
  {
   "cell_type": "code",
   "execution_count": null,
   "metadata": {},
   "outputs": [],
   "source": []
  }
 ],
 "metadata": {
  "kernelspec": {
   "display_name": "Python 3",
   "language": "python",
   "name": "python3"
  },
  "language_info": {
   "codemirror_mode": {
    "name": "ipython",
    "version": 3
   },
   "file_extension": ".py",
   "mimetype": "text/x-python",
   "name": "python",
   "nbconvert_exporter": "python",
   "pygments_lexer": "ipython3",
   "version": "3.6.4"
  }
 },
 "nbformat": 4,
 "nbformat_minor": 2
}
